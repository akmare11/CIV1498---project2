{
 "cells": [
  {
   "cell_type": "markdown",
   "id": "0293eb3a",
   "metadata": {},
   "source": [
    "# CIV1499 - Introduction to Data Science\n"
   ]
  },
  {
   "cell_type": "markdown",
   "id": "34cb6151",
   "metadata": {},
   "source": [
    "## Project 2 - Toronto Bike Share\n",
    "### Set up Network"
   ]
  },
  {
   "cell_type": "code",
   "execution_count": 1,
   "id": "a92ae39f",
   "metadata": {},
   "outputs": [],
   "source": [
    "# Import 3rd party libraries\n",
    "import os\n",
    "import pandas as pd\n",
    "import seaborn as sns\n",
    "import matplotlib.pylab as plt\n",
    "\n",
    "# Configure Notebook\n",
    "%matplotlib inline\n",
    "plt.style.use('fivethirtyeight')\n",
    "sns.set_context(\"notebook\")\n",
    "import warnings\n",
    "warnings.filterwarnings('ignore')"
   ]
  },
  {
   "cell_type": "markdown",
   "id": "5c89550c",
   "metadata": {},
   "source": [
    "### 1. Weather Data"
   ]
  },
  {
   "cell_type": "code",
   "execution_count": 2,
   "id": "3f79f6e2",
   "metadata": {},
   "outputs": [
    {
     "name": "stdout",
     "output_type": "stream",
     "text": [
      "['en_climate_hourly_ON_6158359_01-2017_P1H.csv', 'en_climate_hourly_ON_6158359_01-2018_P1H.csv', 'en_climate_hourly_ON_6158359_01-2019_P1H.csv', 'en_climate_hourly_ON_6158359_01-2020_P1H.csv', 'en_climate_hourly_ON_6158359_01-2021_P1H.csv']\n"
     ]
    }
   ],
   "source": [
    "# Set weather data path\n",
    "path_weather = \"C:\\\\Users\\\\akmar\\\\project_2_bikeshare_toronto\\\\data\\\\weather\\\\\"\n",
    "\n",
    "\n",
    "# Get weather file names\n",
    "weather_filenames = [filename for filename in os.listdir(path_weather) if 'climate' in filename]\n",
    "\n",
    "# Print file names\n",
    "print(weather_filenames[0:5])"
   ]
  },
  {
   "cell_type": "code",
   "execution_count": 3,
   "id": "07da5fce",
   "metadata": {},
   "outputs": [
    {
     "data": {
      "text/plain": [
       "60"
      ]
     },
     "execution_count": 3,
     "metadata": {},
     "output_type": "execute_result"
    }
   ],
   "source": [
    "len(weather_filenames)"
   ]
  },
  {
   "cell_type": "code",
   "execution_count": 4,
   "id": "36521c35",
   "metadata": {},
   "outputs": [
    {
     "data": {
      "text/html": [
       "<div>\n",
       "<style scoped>\n",
       "    .dataframe tbody tr th:only-of-type {\n",
       "        vertical-align: middle;\n",
       "    }\n",
       "\n",
       "    .dataframe tbody tr th {\n",
       "        vertical-align: top;\n",
       "    }\n",
       "\n",
       "    .dataframe thead th {\n",
       "        text-align: right;\n",
       "    }\n",
       "</style>\n",
       "<table border=\"1\" class=\"dataframe\">\n",
       "  <thead>\n",
       "    <tr style=\"text-align: right;\">\n",
       "      <th></th>\n",
       "      <th>Longitude (x)</th>\n",
       "      <th>Latitude (y)</th>\n",
       "      <th>Station Name</th>\n",
       "      <th>Climate ID</th>\n",
       "      <th>Date/Time</th>\n",
       "      <th>Year</th>\n",
       "      <th>Month</th>\n",
       "      <th>Day</th>\n",
       "      <th>Time</th>\n",
       "      <th>Temp (°C)</th>\n",
       "      <th>...</th>\n",
       "      <th>Stn Press (kPa)</th>\n",
       "      <th>Stn Press Flag</th>\n",
       "      <th>Hmdx</th>\n",
       "      <th>Hmdx Flag</th>\n",
       "      <th>Wind Chill</th>\n",
       "      <th>Wind Chill Flag</th>\n",
       "      <th>Weather</th>\n",
       "      <th>Excel_File</th>\n",
       "      <th>Precip. Amount (mm)</th>\n",
       "      <th>Precip. Amount Flag</th>\n",
       "    </tr>\n",
       "  </thead>\n",
       "  <tbody>\n",
       "    <tr>\n",
       "      <th>0</th>\n",
       "      <td>-79.4</td>\n",
       "      <td>43.63</td>\n",
       "      <td>TORONTO CITY CENTRE</td>\n",
       "      <td>6158359</td>\n",
       "      <td>2017-01-01 00:00</td>\n",
       "      <td>2017</td>\n",
       "      <td>1</td>\n",
       "      <td>1</td>\n",
       "      <td>00:00</td>\n",
       "      <td>1.5</td>\n",
       "      <td>...</td>\n",
       "      <td>99.81</td>\n",
       "      <td>NaN</td>\n",
       "      <td>NaN</td>\n",
       "      <td>NaN</td>\n",
       "      <td>NaN</td>\n",
       "      <td>NaN</td>\n",
       "      <td>NaN</td>\n",
       "      <td>01-2017</td>\n",
       "      <td>NaN</td>\n",
       "      <td>NaN</td>\n",
       "    </tr>\n",
       "    <tr>\n",
       "      <th>1</th>\n",
       "      <td>-79.4</td>\n",
       "      <td>43.63</td>\n",
       "      <td>TORONTO CITY CENTRE</td>\n",
       "      <td>6158359</td>\n",
       "      <td>2017-01-01 01:00</td>\n",
       "      <td>2017</td>\n",
       "      <td>1</td>\n",
       "      <td>1</td>\n",
       "      <td>01:00</td>\n",
       "      <td>1.5</td>\n",
       "      <td>...</td>\n",
       "      <td>100.01</td>\n",
       "      <td>NaN</td>\n",
       "      <td>NaN</td>\n",
       "      <td>NaN</td>\n",
       "      <td>NaN</td>\n",
       "      <td>NaN</td>\n",
       "      <td>NaN</td>\n",
       "      <td>01-2017</td>\n",
       "      <td>NaN</td>\n",
       "      <td>NaN</td>\n",
       "    </tr>\n",
       "    <tr>\n",
       "      <th>2</th>\n",
       "      <td>-79.4</td>\n",
       "      <td>43.63</td>\n",
       "      <td>TORONTO CITY CENTRE</td>\n",
       "      <td>6158359</td>\n",
       "      <td>2017-01-01 02:00</td>\n",
       "      <td>2017</td>\n",
       "      <td>1</td>\n",
       "      <td>1</td>\n",
       "      <td>02:00</td>\n",
       "      <td>1.0</td>\n",
       "      <td>...</td>\n",
       "      <td>100.14</td>\n",
       "      <td>NaN</td>\n",
       "      <td>NaN</td>\n",
       "      <td>NaN</td>\n",
       "      <td>NaN</td>\n",
       "      <td>NaN</td>\n",
       "      <td>NaN</td>\n",
       "      <td>01-2017</td>\n",
       "      <td>NaN</td>\n",
       "      <td>NaN</td>\n",
       "    </tr>\n",
       "    <tr>\n",
       "      <th>3</th>\n",
       "      <td>-79.4</td>\n",
       "      <td>43.63</td>\n",
       "      <td>TORONTO CITY CENTRE</td>\n",
       "      <td>6158359</td>\n",
       "      <td>2017-01-01 03:00</td>\n",
       "      <td>2017</td>\n",
       "      <td>1</td>\n",
       "      <td>1</td>\n",
       "      <td>03:00</td>\n",
       "      <td>1.2</td>\n",
       "      <td>...</td>\n",
       "      <td>100.32</td>\n",
       "      <td>NaN</td>\n",
       "      <td>NaN</td>\n",
       "      <td>NaN</td>\n",
       "      <td>NaN</td>\n",
       "      <td>NaN</td>\n",
       "      <td>NaN</td>\n",
       "      <td>01-2017</td>\n",
       "      <td>NaN</td>\n",
       "      <td>NaN</td>\n",
       "    </tr>\n",
       "    <tr>\n",
       "      <th>4</th>\n",
       "      <td>-79.4</td>\n",
       "      <td>43.63</td>\n",
       "      <td>TORONTO CITY CENTRE</td>\n",
       "      <td>6158359</td>\n",
       "      <td>2017-01-01 04:00</td>\n",
       "      <td>2017</td>\n",
       "      <td>1</td>\n",
       "      <td>1</td>\n",
       "      <td>04:00</td>\n",
       "      <td>1.3</td>\n",
       "      <td>...</td>\n",
       "      <td>100.48</td>\n",
       "      <td>NaN</td>\n",
       "      <td>NaN</td>\n",
       "      <td>NaN</td>\n",
       "      <td>NaN</td>\n",
       "      <td>NaN</td>\n",
       "      <td>NaN</td>\n",
       "      <td>01-2017</td>\n",
       "      <td>NaN</td>\n",
       "      <td>NaN</td>\n",
       "    </tr>\n",
       "  </tbody>\n",
       "</table>\n",
       "<p>5 rows × 31 columns</p>\n",
       "</div>"
      ],
      "text/plain": [
       "   Longitude (x)  Latitude (y)         Station Name  Climate ID  \\\n",
       "0          -79.4         43.63  TORONTO CITY CENTRE     6158359   \n",
       "1          -79.4         43.63  TORONTO CITY CENTRE     6158359   \n",
       "2          -79.4         43.63  TORONTO CITY CENTRE     6158359   \n",
       "3          -79.4         43.63  TORONTO CITY CENTRE     6158359   \n",
       "4          -79.4         43.63  TORONTO CITY CENTRE     6158359   \n",
       "\n",
       "          Date/Time  Year  Month  Day   Time  Temp (°C)  ... Stn Press (kPa)  \\\n",
       "0  2017-01-01 00:00  2017      1    1  00:00        1.5  ...           99.81   \n",
       "1  2017-01-01 01:00  2017      1    1  01:00        1.5  ...          100.01   \n",
       "2  2017-01-01 02:00  2017      1    1  02:00        1.0  ...          100.14   \n",
       "3  2017-01-01 03:00  2017      1    1  03:00        1.2  ...          100.32   \n",
       "4  2017-01-01 04:00  2017      1    1  04:00        1.3  ...          100.48   \n",
       "\n",
       "   Stn Press Flag Hmdx  Hmdx Flag Wind Chill  Wind Chill Flag Weather  \\\n",
       "0             NaN  NaN        NaN        NaN              NaN     NaN   \n",
       "1             NaN  NaN        NaN        NaN              NaN     NaN   \n",
       "2             NaN  NaN        NaN        NaN              NaN     NaN   \n",
       "3             NaN  NaN        NaN        NaN              NaN     NaN   \n",
       "4             NaN  NaN        NaN        NaN              NaN     NaN   \n",
       "\n",
       "   Excel_File Precip. Amount (mm)  Precip. Amount Flag  \n",
       "0     01-2017                 NaN                  NaN  \n",
       "1     01-2017                 NaN                  NaN  \n",
       "2     01-2017                 NaN                  NaN  \n",
       "3     01-2017                 NaN                  NaN  \n",
       "4     01-2017                 NaN                  NaN  \n",
       "\n",
       "[5 rows x 31 columns]"
      ]
     },
     "execution_count": 4,
     "metadata": {},
     "output_type": "execute_result"
    }
   ],
   "source": [
    "#Creating a Dictionary for common columns' names in weather datasets\n",
    "weather_col_dic ={\n",
    "    \"Date/Time\": [\"Date/Time\", \"Date/Time (LST)\"],\n",
    "    \"Time\": [\"Time\", \"Time (LST)\"],\n",
    "}\n",
    "\n",
    "#Create a new DF for Weather\n",
    "weather_df = pd.DataFrame()\n",
    "for i in range(len(weather_filenames)):\n",
    "    temp_df = pd.read_csv(path_weather+\"//\"+weather_filenames[i],low_memory=False)\n",
    "    for col in temp_df.columns:\n",
    "        for key,val in weather_col_dic.items():\n",
    "\n",
    "            for item in val:\n",
    "                if col == item:\n",
    "                    temp_df = temp_df.rename(columns={col:key})\n",
    "    \n",
    "    \n",
    "    temp_df['Excel_File'] = str(weather_filenames[i].split('_')[5])\n",
    "    weather_df = pd.concat([weather_df,temp_df],\n",
    "                           ignore_index=True, sort = False, axis=0)\n",
    "\n",
    "#Exporting the DataFrame\n",
    "weather_df.to_csv('weather_df.csv', index=False )\n",
    "    \n",
    "#Weather Dataframe\n",
    "weather_df.head()"
   ]
  },
  {
   "cell_type": "markdown",
   "id": "639dae18",
   "metadata": {},
   "source": [
    "### 2. Bike Share Trip Data"
   ]
  },
  {
   "cell_type": "code",
   "execution_count": 5,
   "id": "4787a32f",
   "metadata": {},
   "outputs": [
    {
     "name": "stdout",
     "output_type": "stream",
     "text": [
      "2017\n",
      "['trip_id', 'trip_start_time', 'trip_stop_time', 'trip_duration_seconds', 'from_station_id', 'from_station_name', 'to_station_id', 'to_station_name', 'user_type']\n",
      "\n",
      "2018\n",
      "['trip_id', 'trip_duration_seconds', 'from_station_id', 'trip_start_time', 'from_station_name', 'trip_stop_time', 'to_station_id', 'to_station_name', 'user_type']\n",
      "\n",
      "2019\n",
      "['Trip Id', 'Subscription Id', 'Trip  Duration', 'Start Station Id', 'Start Time', 'Start Station Name', 'End Station Id', 'End Time', 'End Station Name', 'Bike Id', 'User Type']\n",
      "\n",
      "2020\n",
      "['Trip Id', 'Subscription Id', 'Trip  Duration', 'Start Station Id', 'Start Time', 'Start Station Name', 'End Station Id', 'End Time', 'End Station Name', 'Bike Id', 'User Type']\n",
      "\n",
      "2021\n",
      "['Trip Id', 'Trip  Duration', 'Start Station Id', 'Start Time', 'Start Station Name', 'End Station Id', 'End Time', 'End Station Name', 'Bike Id', 'User Type']\n",
      "\n"
     ]
    }
   ],
   "source": [
    "# Set bikeshare data path\n",
    "path_ridership = \"C:\\\\Users\\\\akmar\\\\project_2_bikeshare_toronto\\\\data\\\\ridership\\\\\"\n",
    "\n",
    "# Create a list of file names for bike share trips data\n",
    "trips_filenames = [filename for filename in os.listdir(os.path.join(path_ridership, 'release')) if 'bike_share' in filename]\n",
    "\n",
    "# Create a dictionary where key:value pairs correspond to the file name and DataFrame respectively\n",
    "trips_data = {filename: pd.read_csv(os.path.join(path_ridership, 'release', filename)) for filename in trips_filenames}  \n",
    "\n",
    "# Now lets print out the column names for the first month of each year\n",
    "print('2017\\n{}\\n'.format(trips_data['bike_share_2017-1.csv'].columns.tolist()))\n",
    "print('2018\\n{}\\n'.format(trips_data['bike_share_2018-1.csv'].columns.tolist()))\n",
    "print('2019\\n{}\\n'.format(trips_data['bike_share_2019-1.csv'].columns.tolist()))\n",
    "print('2020\\n{}\\n'.format(trips_data['bike_share_2020-1.csv'].columns.tolist()))\n",
    "print('2021\\n{}\\n'.format(trips_data['bike_share_2021-1.csv'].columns.tolist()))"
   ]
  },
  {
   "cell_type": "code",
   "execution_count": 6,
   "id": "21230118",
   "metadata": {},
   "outputs": [
    {
     "data": {
      "text/html": [
       "<div>\n",
       "<style scoped>\n",
       "    .dataframe tbody tr th:only-of-type {\n",
       "        vertical-align: middle;\n",
       "    }\n",
       "\n",
       "    .dataframe tbody tr th {\n",
       "        vertical-align: top;\n",
       "    }\n",
       "\n",
       "    .dataframe thead th {\n",
       "        text-align: right;\n",
       "    }\n",
       "</style>\n",
       "<table border=\"1\" class=\"dataframe\">\n",
       "  <thead>\n",
       "    <tr style=\"text-align: right;\">\n",
       "      <th></th>\n",
       "      <th>ID</th>\n",
       "      <th>Start_Time</th>\n",
       "      <th>End_Time</th>\n",
       "      <th>Duration</th>\n",
       "      <th>Start_Station_id</th>\n",
       "      <th>Start_Station_name</th>\n",
       "      <th>End_Station_id</th>\n",
       "      <th>End_Station_name</th>\n",
       "      <th>User_Type</th>\n",
       "      <th>Excel_File</th>\n",
       "      <th>Subscription Id</th>\n",
       "      <th>Bike Id</th>\n",
       "    </tr>\n",
       "  </thead>\n",
       "  <tbody>\n",
       "    <tr>\n",
       "      <th>0</th>\n",
       "      <td>712441</td>\n",
       "      <td>2017-01-01 05:03 (UTC)</td>\n",
       "      <td>2017-01-01 05:08 (UTC)</td>\n",
       "      <td>274</td>\n",
       "      <td>7006.0</td>\n",
       "      <td>Bay St / College St (East Side)</td>\n",
       "      <td>7021.0</td>\n",
       "      <td>Bay St / Albert St</td>\n",
       "      <td>Member</td>\n",
       "      <td>2017-1</td>\n",
       "      <td>NaN</td>\n",
       "      <td>NaN</td>\n",
       "    </tr>\n",
       "    <tr>\n",
       "      <th>1</th>\n",
       "      <td>712442</td>\n",
       "      <td>2017-01-01 05:03 (UTC)</td>\n",
       "      <td>2017-01-01 05:12 (UTC)</td>\n",
       "      <td>538</td>\n",
       "      <td>7046.0</td>\n",
       "      <td>Niagara St / Richmond St W</td>\n",
       "      <td>7147.0</td>\n",
       "      <td>King St W / Fraser Ave</td>\n",
       "      <td>Member</td>\n",
       "      <td>2017-1</td>\n",
       "      <td>NaN</td>\n",
       "      <td>NaN</td>\n",
       "    </tr>\n",
       "    <tr>\n",
       "      <th>2</th>\n",
       "      <td>712443</td>\n",
       "      <td>2017-01-01 05:05 (UTC)</td>\n",
       "      <td>2017-01-01 05:22 (UTC)</td>\n",
       "      <td>992</td>\n",
       "      <td>7048.0</td>\n",
       "      <td>Front St / Yonge St (Hockey Hall of Fame)</td>\n",
       "      <td>7089.0</td>\n",
       "      <td>Church St  / Wood St</td>\n",
       "      <td>Member</td>\n",
       "      <td>2017-1</td>\n",
       "      <td>NaN</td>\n",
       "      <td>NaN</td>\n",
       "    </tr>\n",
       "    <tr>\n",
       "      <th>3</th>\n",
       "      <td>712444</td>\n",
       "      <td>2017-01-01 05:09 (UTC)</td>\n",
       "      <td>2017-01-01 05:26 (UTC)</td>\n",
       "      <td>1005</td>\n",
       "      <td>7177.0</td>\n",
       "      <td>East Liberty St / Pirandello St</td>\n",
       "      <td>7202.0</td>\n",
       "      <td>Queen St W / York St (City Hall)</td>\n",
       "      <td>Member</td>\n",
       "      <td>2017-1</td>\n",
       "      <td>NaN</td>\n",
       "      <td>NaN</td>\n",
       "    </tr>\n",
       "    <tr>\n",
       "      <th>4</th>\n",
       "      <td>712445</td>\n",
       "      <td>2017-01-01 05:14 (UTC)</td>\n",
       "      <td>2017-01-01 05:25 (UTC)</td>\n",
       "      <td>645</td>\n",
       "      <td>7203.0</td>\n",
       "      <td>Bathurst St / Queens Quay W</td>\n",
       "      <td>7010.0</td>\n",
       "      <td>King St W / Spadina Ave</td>\n",
       "      <td>Member</td>\n",
       "      <td>2017-1</td>\n",
       "      <td>NaN</td>\n",
       "      <td>NaN</td>\n",
       "    </tr>\n",
       "  </tbody>\n",
       "</table>\n",
       "</div>"
      ],
      "text/plain": [
       "       ID              Start_Time                End_Time  Duration  \\\n",
       "0  712441  2017-01-01 05:03 (UTC)  2017-01-01 05:08 (UTC)       274   \n",
       "1  712442  2017-01-01 05:03 (UTC)  2017-01-01 05:12 (UTC)       538   \n",
       "2  712443  2017-01-01 05:05 (UTC)  2017-01-01 05:22 (UTC)       992   \n",
       "3  712444  2017-01-01 05:09 (UTC)  2017-01-01 05:26 (UTC)      1005   \n",
       "4  712445  2017-01-01 05:14 (UTC)  2017-01-01 05:25 (UTC)       645   \n",
       "\n",
       "   Start_Station_id                         Start_Station_name  \\\n",
       "0            7006.0            Bay St / College St (East Side)   \n",
       "1            7046.0                 Niagara St / Richmond St W   \n",
       "2            7048.0  Front St / Yonge St (Hockey Hall of Fame)   \n",
       "3            7177.0            East Liberty St / Pirandello St   \n",
       "4            7203.0                Bathurst St / Queens Quay W   \n",
       "\n",
       "   End_Station_id                  End_Station_name User_Type Excel_File  \\\n",
       "0          7021.0                Bay St / Albert St    Member     2017-1   \n",
       "1          7147.0            King St W / Fraser Ave    Member     2017-1   \n",
       "2          7089.0              Church St  / Wood St    Member     2017-1   \n",
       "3          7202.0  Queen St W / York St (City Hall)    Member     2017-1   \n",
       "4          7010.0           King St W / Spadina Ave    Member     2017-1   \n",
       "\n",
       "   Subscription Id  Bike Id  \n",
       "0              NaN      NaN  \n",
       "1              NaN      NaN  \n",
       "2              NaN      NaN  \n",
       "3              NaN      NaN  \n",
       "4              NaN      NaN  "
      ]
     },
     "execution_count": 6,
     "metadata": {},
     "output_type": "execute_result"
    }
   ],
   "source": [
    "#Creating a Dictionary of columns' name\n",
    "bike_col_dic ={\n",
    "    \"ID\": [\"trip_id\", \"Trip Id\", \"ï»¿Trip Id\"],\n",
    "    \"Start_Time\": [\"trip_start_time\", \"Start Time\"],\n",
    "    \"End_Time\": [\"trip_stop_time\",\"End Time\"],\n",
    "    \"Duration\": [\"trip_duration_seconds\",\"Trip  Duration\"],\n",
    "    \"Start_Station_id\": [\"from_station_id\",\"Start Station Id\"],\n",
    "    \"Start_Station_name\": [\"from_station_name\",\"Start Station Name\"],\n",
    "    \"End_Station_id\": [\"to_station_id\",\"End Station Id\"],\n",
    "    \"End_Station_name\": [\"to_station_name\",\"End Station Name\"],\n",
    "    \"User_Type\": [\"user_type\",\"User Type\"]\n",
    "}\n",
    "#bike_col_dic\n",
    "\n",
    "\n",
    "#Create a new DF for BikeRides\n",
    "bikerides_df = pd.DataFrame()\n",
    "\n",
    "\n",
    "for i in range(len(trips_filenames)):\n",
    "    temp_df = pd.read_csv(path_ridership+\"\\\\release\\\\\"+trips_filenames[i], low_memory=False)\n",
    "    for col in temp_df.columns:\n",
    "        for key,val in bike_col_dic.items():\n",
    "            \n",
    "            for item in val:\n",
    "                if col == item:\n",
    "                    temp_df = temp_df.rename(columns={col:key})\n",
    "\n",
    "    temp_df['Excel_File'] = str(trips_filenames[i].split(\"_\")[2]).split(\".\")[0]\n",
    "    bikerides_df = pd.concat([bikerides_df,temp_df],\n",
    "                             ignore_index=True, sort = False, axis=0)\n",
    "\n",
    "#Exporting the DataFrame\n",
    "bikerides_df.to_csv('bikerides_df.csv', index=False )\n",
    "    \n",
    "#Weather Dataframe\n",
    "bikerides_df.head()"
   ]
  },
  {
   "cell_type": "code",
   "execution_count": 7,
   "id": "2376f13b",
   "metadata": {},
   "outputs": [
    {
     "name": "stdout",
     "output_type": "stream",
     "text": [
      "<class 'pandas.core.frame.DataFrame'>\n",
      "RangeIndex: 12195482 entries, 0 to 12195481\n",
      "Data columns (total 12 columns):\n",
      " #   Column              Dtype  \n",
      "---  ------              -----  \n",
      " 0   ID                  int64  \n",
      " 1   Start_Time          object \n",
      " 2   End_Time            object \n",
      " 3   Duration            int64  \n",
      " 4   Start_Station_id    float64\n",
      " 5   Start_Station_name  object \n",
      " 6   End_Station_id      float64\n",
      " 7   End_Station_name    object \n",
      " 8   User_Type           object \n",
      " 9   Excel_File          object \n",
      " 10  Subscription Id     float64\n",
      " 11  Bike Id             float64\n",
      "dtypes: float64(4), int64(2), object(6)\n",
      "memory usage: 1.1+ GB\n"
     ]
    }
   ],
   "source": [
    "bikerides_df.info()"
   ]
  },
  {
   "cell_type": "markdown",
   "id": "65efa5da",
   "metadata": {},
   "source": [
    "### 3 Station Data"
   ]
  },
  {
   "cell_type": "code",
   "execution_count": 8,
   "id": "2aa23eac",
   "metadata": {},
   "outputs": [
    {
     "data": {
      "text/html": [
       "<div>\n",
       "<style scoped>\n",
       "    .dataframe tbody tr th:only-of-type {\n",
       "        vertical-align: middle;\n",
       "    }\n",
       "\n",
       "    .dataframe tbody tr th {\n",
       "        vertical-align: top;\n",
       "    }\n",
       "\n",
       "    .dataframe thead th {\n",
       "        text-align: right;\n",
       "    }\n",
       "</style>\n",
       "<table border=\"1\" class=\"dataframe\">\n",
       "  <thead>\n",
       "    <tr style=\"text-align: right;\">\n",
       "      <th></th>\n",
       "      <th>station_id</th>\n",
       "      <th>name</th>\n",
       "      <th>lat</th>\n",
       "      <th>lon</th>\n",
       "    </tr>\n",
       "  </thead>\n",
       "  <tbody>\n",
       "    <tr>\n",
       "      <th>0</th>\n",
       "      <td>7000</td>\n",
       "      <td>Fort York  Blvd / Capreol Ct</td>\n",
       "      <td>43.639832</td>\n",
       "      <td>-79.395954</td>\n",
       "    </tr>\n",
       "    <tr>\n",
       "      <th>1</th>\n",
       "      <td>7001</td>\n",
       "      <td>Wellesley Station Green P</td>\n",
       "      <td>43.664964</td>\n",
       "      <td>-79.383550</td>\n",
       "    </tr>\n",
       "    <tr>\n",
       "      <th>2</th>\n",
       "      <td>7002</td>\n",
       "      <td>St. George St / Bloor St W</td>\n",
       "      <td>43.667333</td>\n",
       "      <td>-79.399429</td>\n",
       "    </tr>\n",
       "    <tr>\n",
       "      <th>3</th>\n",
       "      <td>7003</td>\n",
       "      <td>Madison Ave / Bloor St W</td>\n",
       "      <td>43.667158</td>\n",
       "      <td>-79.402761</td>\n",
       "    </tr>\n",
       "    <tr>\n",
       "      <th>4</th>\n",
       "      <td>7004</td>\n",
       "      <td>University Ave / Elm St</td>\n",
       "      <td>43.656518</td>\n",
       "      <td>-79.389099</td>\n",
       "    </tr>\n",
       "  </tbody>\n",
       "</table>\n",
       "</div>"
      ],
      "text/plain": [
       "   station_id                          name        lat        lon\n",
       "0        7000  Fort York  Blvd / Capreol Ct  43.639832 -79.395954\n",
       "1        7001     Wellesley Station Green P  43.664964 -79.383550\n",
       "2        7002    St. George St / Bloor St W  43.667333 -79.399429\n",
       "3        7003      Madison Ave / Bloor St W  43.667158 -79.402761\n",
       "4        7004       University Ave / Elm St  43.656518 -79.389099"
      ]
     },
     "execution_count": 8,
     "metadata": {},
     "output_type": "execute_result"
    }
   ],
   "source": [
    "# Set stations data path\n",
    "path_ridership = \"C:\\\\Users\\\\akmar\\\\project_2_bikeshare_toronto\\\\data\\\\stations\\\\\"\n",
    "\n",
    "# Import stations\n",
    "stations = pd.read_csv(os.path.join(path_ridership, 'bikeshare_stations.csv'))\n",
    "\n",
    "# View DataFrame\n",
    "stations.head()"
   ]
  },
  {
   "cell_type": "code",
   "execution_count": 9,
   "id": "cad0c075",
   "metadata": {},
   "outputs": [
    {
     "data": {
      "text/plain": [
       "ID                          0\n",
       "Start_Time                  0\n",
       "End_Time                    1\n",
       "Duration                    0\n",
       "Start_Station_id      1026893\n",
       "Start_Station_name       3313\n",
       "End_Station_id        1030516\n",
       "End_Station_name         7023\n",
       "User_Type                   0\n",
       "Excel_File                  0\n",
       "Subscription Id       7143261\n",
       "Bike Id               3415600\n",
       "dtype: int64"
      ]
     },
     "execution_count": 9,
     "metadata": {},
     "output_type": "execute_result"
    }
   ],
   "source": [
    "bikerides_df.isna().sum()\n",
    "# there is one end time row missing. I think we can just drop it.\n",
    "# I've sent the code in the group on how to fix the station_id  and station_name\n",
    "# "
   ]
  },
  {
   "cell_type": "code",
   "execution_count": 10,
   "id": "013697e7",
   "metadata": {},
   "outputs": [
    {
     "data": {
      "text/plain": [
       "(12195, 12)"
      ]
     },
     "execution_count": 10,
     "metadata": {},
     "output_type": "execute_result"
    }
   ],
   "source": [
    "rides = bikerides_df.sample(frac = 0.001)\n",
    "rides.shape"
   ]
  },
  {
   "cell_type": "code",
   "execution_count": 11,
   "id": "fd6eb77b",
   "metadata": {},
   "outputs": [],
   "source": [
    "rides.to_csv('rides_df.csv', index=False )"
   ]
  },
  {
   "cell_type": "markdown",
   "id": "41403a08",
   "metadata": {},
   "source": [
    "# Exploratory Data"
   ]
  },
  {
   "cell_type": "code",
   "execution_count": 12,
   "id": "54cf0790",
   "metadata": {},
   "outputs": [],
   "source": [
    "# Import 3rd party libraries\n",
    "import os\n",
    "import pandas as pd\n",
    "import seaborn as sns\n",
    "import matplotlib.pylab as plt\n",
    "\n",
    "# Configure Notebook\n",
    "%matplotlib inline\n",
    "plt.style.use('fivethirtyeight')\n",
    "sns.set_context(\"notebook\")\n",
    "import warnings\n",
    "warnings.filterwarnings('ignore')"
   ]
  },
  {
   "cell_type": "code",
   "execution_count": 13,
   "id": "e485eabf",
   "metadata": {},
   "outputs": [
    {
     "data": {
      "text/plain": [
       "(12195, 12)"
      ]
     },
     "execution_count": 13,
     "metadata": {},
     "output_type": "execute_result"
    }
   ],
   "source": [
    "bikerides_df = pd.read_csv(\"rides_df.csv\")\n",
    "bikerides_df.shape"
   ]
  },
  {
   "cell_type": "code",
   "execution_count": 14,
   "id": "2d882d6c",
   "metadata": {},
   "outputs": [
    {
     "data": {
      "text/html": [
       "<div>\n",
       "<style scoped>\n",
       "    .dataframe tbody tr th:only-of-type {\n",
       "        vertical-align: middle;\n",
       "    }\n",
       "\n",
       "    .dataframe tbody tr th {\n",
       "        vertical-align: top;\n",
       "    }\n",
       "\n",
       "    .dataframe thead th {\n",
       "        text-align: right;\n",
       "    }\n",
       "</style>\n",
       "<table border=\"1\" class=\"dataframe\">\n",
       "  <thead>\n",
       "    <tr style=\"text-align: right;\">\n",
       "      <th></th>\n",
       "      <th>ID</th>\n",
       "      <th>Start_Time</th>\n",
       "      <th>End_Time</th>\n",
       "      <th>Duration</th>\n",
       "      <th>Start_Station_id</th>\n",
       "      <th>Start_Station_name</th>\n",
       "      <th>End_Station_id</th>\n",
       "      <th>End_Station_name</th>\n",
       "      <th>User_Type</th>\n",
       "      <th>Excel_File</th>\n",
       "      <th>Subscription Id</th>\n",
       "      <th>Bike Id</th>\n",
       "      <th>Time_Zone</th>\n",
       "    </tr>\n",
       "  </thead>\n",
       "  <tbody>\n",
       "    <tr>\n",
       "      <th>0</th>\n",
       "      <td>11982051</td>\n",
       "      <td>2021-12-06 14:18:00-05:00</td>\n",
       "      <td>2021-12-06 14:49:00-05:00</td>\n",
       "      <td>1851</td>\n",
       "      <td>7016.0</td>\n",
       "      <td>Bay St / Queens Quay W (Ferry Terminal)</td>\n",
       "      <td>7207.0</td>\n",
       "      <td>Dundas St W / Crawford St</td>\n",
       "      <td>Annual Member</td>\n",
       "      <td>2021-6</td>\n",
       "      <td>NaN</td>\n",
       "      <td>5832.0</td>\n",
       "      <td>EST</td>\n",
       "    </tr>\n",
       "    <tr>\n",
       "      <th>1</th>\n",
       "      <td>5039271</td>\n",
       "      <td>2019-11-05 15:46:00-05:00</td>\n",
       "      <td>2019-11-05 16:34:00-05:00</td>\n",
       "      <td>2881</td>\n",
       "      <td>7036.0</td>\n",
       "      <td>Trinity St /Front St E</td>\n",
       "      <td>7117.0</td>\n",
       "      <td>Castle Frank Station</td>\n",
       "      <td>Casual Member</td>\n",
       "      <td>2019-5</td>\n",
       "      <td>329897.0</td>\n",
       "      <td>3528.0</td>\n",
       "      <td>EST</td>\n",
       "    </tr>\n",
       "    <tr>\n",
       "      <th>2</th>\n",
       "      <td>14336336</td>\n",
       "      <td>2021-10-30 21:27:00-05:00</td>\n",
       "      <td>2021-10-30 21:33:00-05:00</td>\n",
       "      <td>376</td>\n",
       "      <td>7164.0</td>\n",
       "      <td>Gould St / Yonge St (Ryerson University)</td>\n",
       "      <td>7548.0</td>\n",
       "      <td>St Joseph St / Bay St - SMART</td>\n",
       "      <td>Casual Member</td>\n",
       "      <td>2021-10</td>\n",
       "      <td>NaN</td>\n",
       "      <td>5521.0</td>\n",
       "      <td>EST</td>\n",
       "    </tr>\n",
       "    <tr>\n",
       "      <th>3</th>\n",
       "      <td>7131808</td>\n",
       "      <td>2019-09-11 16:56:00-05:00</td>\n",
       "      <td>2019-09-11 17:07:00-05:00</td>\n",
       "      <td>658</td>\n",
       "      <td>7382.0</td>\n",
       "      <td>Simcoe St / Adelaide St W</td>\n",
       "      <td>7041.0</td>\n",
       "      <td>Edward St / Yonge St</td>\n",
       "      <td>Annual Member</td>\n",
       "      <td>2019-11</td>\n",
       "      <td>320577.0</td>\n",
       "      <td>3818.0</td>\n",
       "      <td>EST</td>\n",
       "    </tr>\n",
       "    <tr>\n",
       "      <th>4</th>\n",
       "      <td>11689319</td>\n",
       "      <td>2021-05-27 10:33:00-05:00</td>\n",
       "      <td>2021-05-27 10:44:00-05:00</td>\n",
       "      <td>697</td>\n",
       "      <td>7432.0</td>\n",
       "      <td>Frederick St / King St E</td>\n",
       "      <td>7059.0</td>\n",
       "      <td>Front St W / Blue Jays Way</td>\n",
       "      <td>Casual Member</td>\n",
       "      <td>2021-5</td>\n",
       "      <td>NaN</td>\n",
       "      <td>4693.0</td>\n",
       "      <td>EST</td>\n",
       "    </tr>\n",
       "  </tbody>\n",
       "</table>\n",
       "</div>"
      ],
      "text/plain": [
       "         ID                Start_Time                  End_Time  Duration  \\\n",
       "0  11982051 2021-12-06 14:18:00-05:00 2021-12-06 14:49:00-05:00      1851   \n",
       "1   5039271 2019-11-05 15:46:00-05:00 2019-11-05 16:34:00-05:00      2881   \n",
       "2  14336336 2021-10-30 21:27:00-05:00 2021-10-30 21:33:00-05:00       376   \n",
       "3   7131808 2019-09-11 16:56:00-05:00 2019-09-11 17:07:00-05:00       658   \n",
       "4  11689319 2021-05-27 10:33:00-05:00 2021-05-27 10:44:00-05:00       697   \n",
       "\n",
       "   Start_Station_id                        Start_Station_name  End_Station_id  \\\n",
       "0            7016.0   Bay St / Queens Quay W (Ferry Terminal)          7207.0   \n",
       "1            7036.0                    Trinity St /Front St E          7117.0   \n",
       "2            7164.0  Gould St / Yonge St (Ryerson University)          7548.0   \n",
       "3            7382.0                 Simcoe St / Adelaide St W          7041.0   \n",
       "4            7432.0                  Frederick St / King St E          7059.0   \n",
       "\n",
       "                End_Station_name      User_Type Excel_File  Subscription Id  \\\n",
       "0      Dundas St W / Crawford St  Annual Member     2021-6              NaN   \n",
       "1           Castle Frank Station  Casual Member     2019-5         329897.0   \n",
       "2  St Joseph St / Bay St - SMART  Casual Member    2021-10              NaN   \n",
       "3           Edward St / Yonge St  Annual Member    2019-11         320577.0   \n",
       "4     Front St W / Blue Jays Way  Casual Member     2021-5              NaN   \n",
       "\n",
       "   Bike Id Time_Zone  \n",
       "0   5832.0       EST  \n",
       "1   3528.0       EST  \n",
       "2   5521.0       EST  \n",
       "3   3818.0       EST  \n",
       "4   4693.0       EST  "
      ]
     },
     "execution_count": 14,
     "metadata": {},
     "output_type": "execute_result"
    }
   ],
   "source": [
    "# String to DateTime for Start_Time and End_Time\n",
    "\n",
    "def UTC_To_EST(x):\n",
    "    \"\"\"\n",
    "    Converting datetime for UTC to EST\n",
    "    \"\"\"\n",
    "    UTC_TO_EST = pd.Timestamp(x).tz_localize('UTC')\n",
    "    return UTC_TO_EST.tz_convert('EST')\n",
    "\n",
    "#Removing (UTC) and (EST) from Start_Time and End_Time Colums\n",
    "bikerides_df['Time_Zone'] = bikerides_df.apply(\n",
    "    lambda row: row[\"Start_Time\"].split(\"(\")[1].split(\")\")[0] if (\"(\" in row[\"Start_Time\"]) else False, axis=1) \n",
    "\n",
    "bikerides_df['Start_Time'] = bikerides_df.apply(lambda row: row[\"Start_Time\"].split(\"(\")[0], axis=1)\n",
    "bikerides_df['End_Time'] = bikerides_df.apply(lambda row: row[\"End_Time\"].split(\"(\")[0], axis=1)\n",
    "\n",
    "\n",
    "#Converting String to DateTime\n",
    "bikerides_df['Start_Time'] = pd.to_datetime(bikerides_df['Start_Time'])\n",
    "bikerides_df['End_Time'] = pd.to_datetime(bikerides_df['End_Time'])\n",
    "\n",
    "\n",
    "#Converting UTC to EST timezone\n",
    "bikerides_df['Start_Time'] = bikerides_df.apply(\n",
    "    lambda row: UTC_To_EST(row['Start_Time']) if row[\"Time_Zone\"] == \"UTC\" else row['Start_Time'], axis=1)\n",
    "bikerides_df['End_Time'] = bikerides_df.apply(\n",
    "    lambda row: UTC_To_EST(row['End_Time']) if row[\"Time_Zone\"] == \"UTC\" else row['End_Time'], axis=1) \n",
    "\n",
    "#Localizing Timestamps \n",
    "\n",
    "bikerides_df[\"Start_Time\"] = bikerides_df.apply(\n",
    "    lambda row: row[\"Start_Time\"] if (\n",
    "        str(row[\"Start_Time\"].tzinfo) == \"EST\") else row[\"Start_Time\"].tz_localize(tz ='EST'), axis = 1)\n",
    "bikerides_df[\"End_Time\"] = bikerides_df.apply(\n",
    "    lambda row: row[\"End_Time\"] if (\n",
    "        str(row[\"End_Time\"].tzinfo) == \"EST\") else row[\"End_Time\"].tz_localize(tz ='EST'), axis = 1)\n",
    "\n",
    "bikerides_df.head()"
   ]
  },
  {
   "cell_type": "code",
   "execution_count": 15,
   "id": "5618d29b",
   "metadata": {},
   "outputs": [
    {
     "name": "stdout",
     "output_type": "stream",
     "text": [
      "<class 'pandas.core.frame.DataFrame'>\n",
      "RangeIndex: 12195 entries, 0 to 12194\n",
      "Data columns (total 13 columns):\n",
      " #   Column              Non-Null Count  Dtype              \n",
      "---  ------              --------------  -----              \n",
      " 0   ID                  12195 non-null  int64              \n",
      " 1   Start_Time          12195 non-null  datetime64[ns, EST]\n",
      " 2   End_Time            12195 non-null  datetime64[ns, EST]\n",
      " 3   Duration            12195 non-null  int64              \n",
      " 4   Start_Station_id    11215 non-null  float64            \n",
      " 5   Start_Station_name  12194 non-null  object             \n",
      " 6   End_Station_id      11212 non-null  float64            \n",
      " 7   End_Station_name    12188 non-null  object             \n",
      " 8   User_Type           12195 non-null  object             \n",
      " 9   Excel_File          12195 non-null  object             \n",
      " 10  Subscription Id     4974 non-null   float64            \n",
      " 11  Bike Id             8868 non-null   float64            \n",
      " 12  Time_Zone           12195 non-null  object             \n",
      "dtypes: datetime64[ns, EST](2), float64(4), int64(2), object(5)\n",
      "memory usage: 1.2+ MB\n"
     ]
    }
   ],
   "source": [
    "bikerides_df.info()\n"
   ]
  },
  {
   "cell_type": "code",
   "execution_count": 16,
   "id": "f4e2bd35",
   "metadata": {},
   "outputs": [
    {
     "data": {
      "image/png": "[encoded data removed]",
      "text/plain": [
       "<Figure size 432x288 with 1 Axes>"
      ]
     },
     "metadata": {},
     "output_type": "display_data"
    }
   ],
   "source": [
    "bikerides_df['Duration'].plot(kind='box');\n"
   ]
  },
  {
   "cell_type": "code",
   "execution_count": 17,
   "id": "e1855ad1",
   "metadata": {},
   "outputs": [
    {
     "data": {
      "text/plain": [
       "(11698, 13)"
      ]
     },
     "execution_count": 17,
     "metadata": {},
     "output_type": "execute_result"
    }
   ],
   "source": [
    "# Cleaning the dataset\n",
    "def remove_outliers(df, variable):\n",
    "    q1 = df[variable].quantile(0.25)\n",
    "    q3 = df[variable].quantile(0.75)\n",
    "    iqr = q3 - q1\n",
    "    lower_limit = q1 - 1.5 * iqr\n",
    "    upper_limit = q3 + 1.5 * iqr\n",
    "    return df[(df[variable] < upper_limit) & (df[variable] > lower_limit)]\n",
    "\n",
    "bikerides_df = remove_outliers(bikerides_df, \"Duration\")\n",
    "\n",
    "#Converting From float to Integer\n",
    "bikerides_df.shape"
   ]
  },
  {
   "cell_type": "code",
   "execution_count": 18,
   "id": "7b3e93c1",
   "metadata": {},
   "outputs": [
    {
     "data": {
      "text/plain": [
       "array(['Annual Member', 'Casual Member', 'Member', 'Casual'], dtype=object)"
      ]
     },
     "execution_count": 18,
     "metadata": {},
     "output_type": "execute_result"
    }
   ],
   "source": [
    "bikerides_df[\"User_Type\"].unique()"
   ]
  },
  {
   "cell_type": "code",
   "execution_count": 19,
   "id": "148ceb98",
   "metadata": {},
   "outputs": [],
   "source": [
    "bikerides_df.loc[(bikerides_df.User_Type == 'Annual Member'),'User_Type']='Member'\n",
    "bikerides_df.loc[(bikerides_df.User_Type == 'Casual Member'),'User_Type']='Casual'"
   ]
  },
  {
   "cell_type": "code",
   "execution_count": 20,
   "id": "2e030469",
   "metadata": {},
   "outputs": [
    {
     "data": {
      "text/plain": [
       "array(['Member', 'Casual'], dtype=object)"
      ]
     },
     "execution_count": 20,
     "metadata": {},
     "output_type": "execute_result"
    }
   ],
   "source": [
    "bikerides_df[\"User_Type\"].unique()"
   ]
  },
  {
   "cell_type": "code",
   "execution_count": 21,
   "id": "6c233b14",
   "metadata": {},
   "outputs": [
    {
     "data": {
      "text/plain": [
       "User_Type\n",
       "Casual    3279\n",
       "Member    8419\n",
       "Name: ID, dtype: int64"
      ]
     },
     "execution_count": 21,
     "metadata": {},
     "output_type": "execute_result"
    }
   ],
   "source": [
    "bikerides_df.groupby([\"User_Type\"])[\"ID\"].count()\n"
   ]
  },
  {
   "cell_type": "code",
   "execution_count": null,
   "id": "999cba51",
   "metadata": {},
   "outputs": [],
   "source": []
  }
 ],
 "metadata": {
  "kernelspec": {
   "display_name": "Python 3 (ipykernel)",
   "language": "python",
   "name": "python3"
  },
  "language_info": {
   "codemirror_mode": {
    "name": "ipython",
    "version": 3
   },
   "file_extension": ".py",
   "mimetype": "text/x-python",
   "name": "python",
   "nbconvert_exporter": "python",
   "pygments_lexer": "ipython3",
   "version": "3.9.7"
  }
 },
 "nbformat": 4,
 "nbformat_minor": 5
}
